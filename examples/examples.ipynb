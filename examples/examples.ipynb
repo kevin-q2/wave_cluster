{
 "cells": [
  {
   "cell_type": "code",
   "execution_count": 3,
   "metadata": {},
   "outputs": [],
   "source": [
    "import sys\n",
    "import numpy as np\n",
    "import pandas as pd\n",
    "\n",
    "sys.path.append(\"../wave_cluster\")\n",
    "from data_tools import *"
   ]
  },
  {
   "cell_type": "markdown",
   "metadata": {},
   "source": [
    "### Data Import"
   ]
  },
  {
   "cell_type": "code",
   "execution_count": 5,
   "metadata": {},
   "outputs": [],
   "source": [
    "# US state level demographics and Covid-19 Time-Series data (# new cases every day)\n",
    "demographics = pd.read_csv(\"data/us_demographics.csv\", index_col = 0)\n",
    "data = pd.read_csv(\"data/us_state_daily.csv\", index_col = 0)\n",
    "\n",
    "# dropping the first 45 days for unreliable data \n",
    "data = data.iloc[45:,:]\n",
    "\n",
    "# and dropping a few of the territories with irregular data\n",
    "dr = ['US_VI', 'US_MP', 'US_GU', 'US_AS']\n",
    "data = data.drop(dr, axis = 1)\n",
    "\n",
    "# Normalization of each locations time-series to be cases per 100,000 persons\n",
    "population = demographics.loc[data.columns,\"population\"]\n",
    "norm_data = data.apply(lambda x: x/population[x.name])\n",
    "data = norm_data * 100000 # cases per 100,000\n",
    "\n",
    "# Windowed average smoothing of each time-series \n",
    "# Using 7 day average with 3 days in front and behind burrent time-stamp\n",
    "front = 3\n",
    "back = 3\n",
    "smooth_data = window_average(data.to_numpy(), front = front, back = back)\n",
    "\n",
    "# fix the index\n",
    "smoothed_index = data.index[front:-back - 1]\n",
    "data = pd.DataFrame(smooth_data, index = smoothed_index, columns = data.columns)\n",
    "\n",
    "# remove any negative entries (reporting errors still present after smoothing)\n",
    "data[data < 0] = 0\n",
    "\n",
    "# there are a few crazy spikes left over which I beleive can be attributed to \n",
    "# reporting error. I will average these out, hopefully without loss.\n",
    "idd = data.columns.get_loc(\"US_DC\")\n",
    "data.iloc[565, idd] = (data.iloc[564, idd] + data.iloc[566, idd])/2\n",
    "\n",
    "idd = data.columns.get_loc(\"US_MO\")\n",
    "mo_col = data.loc[:,\"US_MO\"].to_numpy().flatten()\n",
    "smooth_vec = window_average(mo_col[350:420], 10,10)\n",
    "data.iloc[350 + 11: 420-10,idd] = smooth_vec"
   ]
  },
  {
   "cell_type": "code",
   "execution_count": null,
   "metadata": {},
   "outputs": [],
   "source": []
  }
 ],
 "metadata": {
  "kernelspec": {
   "display_name": "wave_cluster",
   "language": "python",
   "name": "wave_cluster"
  },
  "language_info": {
   "codemirror_mode": {
    "name": "ipython",
    "version": 3
   },
   "file_extension": ".py",
   "mimetype": "text/x-python",
   "name": "python",
   "nbconvert_exporter": "python",
   "pygments_lexer": "ipython3",
   "version": "3.10.13"
  }
 },
 "nbformat": 4,
 "nbformat_minor": 4
}
